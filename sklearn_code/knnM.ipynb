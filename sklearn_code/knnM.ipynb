{
 "cells": [
  {
   "cell_type": "code",
   "execution_count": 35,
   "metadata": {},
   "outputs": [],
   "source": [
    "import numpy as np\n",
    "from math import sqrt\n",
    "import warnings\n",
    "from matplotlib import style\n",
    "from collections import Counter\n",
    "import pandas as pd\n",
    "import matplotlib.pyplot as plt\n",
    "import random\n",
    "from collections import Counter\n",
    "style.use('fivethirtyeight')"
   ]
  },
  {
   "cell_type": "code",
   "execution_count": 36,
   "metadata": {},
   "outputs": [],
   "source": [
    "dataset= {'k':[[1,2], [2,3], [3,1]],'r':[[6,5], [7,7], [8,6]] }\n",
    "new_feature = [5,7]"
   ]
  },
  {
   "cell_type": "code",
   "execution_count": 37,
   "metadata": {},
   "outputs": [
    {
     "data": {
      "text/plain": [
       "'r'"
      ]
     },
     "execution_count": 37,
     "metadata": {},
     "output_type": "execute_result"
    }
   ],
   "source": [
    "dist = []\n",
    "for i in dataset:\n",
    "    for el in dataset[i]:\n",
    "        dist.append((sqrt(sum(  (np.array(el) - np.array(new_feature) )**2 )), i))\n",
    "        # print(el)\n",
    "\n",
    "sorted_dist = sorted(dist)\n",
    "votes = [i[1] for i in sorted_dist[:3] ]\n",
    "Counter(votes).most_common()[0][0]"
   ]
  },
  {
   "cell_type": "code",
   "execution_count": 38,
   "metadata": {},
   "outputs": [
    {
     "data": {
      "image/png": "[encoded data removed]",
      "text/plain": [
       "<Figure size 640x480 with 1 Axes>"
      ]
     },
     "metadata": {},
     "output_type": "display_data"
    }
   ],
   "source": [
    "for i in dataset:\n",
    "    for el in dataset[i]:\n",
    "        plt.scatter(el[0], el[1], c=i)  "
   ]
  },
  {
   "attachments": {},
   "cell_type": "markdown",
   "metadata": {},
   "source": [
    "Testing using breast cancer dataset\n"
   ]
  },
  {
   "cell_type": "code",
   "execution_count": 39,
   "metadata": {},
   "outputs": [],
   "source": [
    "df = pd.read_csv('./data sets/breast-cancer-wisconsin.data')"
   ]
  },
  {
   "cell_type": "code",
   "execution_count": 40,
   "metadata": {},
   "outputs": [],
   "source": [
    "df.drop(['id'], axis=1, inplace=True)\n",
    "df.replace('?', -99999, inplace=True)"
   ]
  },
  {
   "cell_type": "code",
   "execution_count": 41,
   "metadata": {},
   "outputs": [
    {
     "data": {
      "text/plain": [
       "[[5.0, 1.0, 1.0, 1.0, 2.0, 1.0, 3.0, 1.0, 1.0, 2.0],\n",
       " [5.0, 4.0, 4.0, 5.0, 7.0, 10.0, 3.0, 2.0, 1.0, 2.0],\n",
       " [3.0, 1.0, 1.0, 1.0, 2.0, 2.0, 3.0, 1.0, 1.0, 2.0]]"
      ]
     },
     "execution_count": 41,
     "metadata": {},
     "output_type": "execute_result"
    }
   ],
   "source": [
    "data =  df.astype(float).values.tolist()\n",
    "data[:3]"
   ]
  },
  {
   "cell_type": "code",
   "execution_count": 42,
   "metadata": {},
   "outputs": [],
   "source": [
    "random.shuffle(data)\n"
   ]
  },
  {
   "cell_type": "code",
   "execution_count": 43,
   "metadata": {},
   "outputs": [],
   "source": [
    "test_size =  0.2\n",
    "train_set = {2:[], 4:[]}\n",
    "test_set = {2:[], 4:[]}\n",
    "train_data =  data[:-int(test_size*len(data))]\n",
    "test_data = data[-int(test_size*len(data)):]"
   ]
  },
  {
   "cell_type": "code",
   "execution_count": 44,
   "metadata": {},
   "outputs": [],
   "source": [
    "for i in train_data:\n",
    "    train_set[i[-1]].append(i[:-1])\n",
    "\n",
    "for i in test_data:\n",
    "    test_set[i[-1]].append(i[:-1])"
   ]
  },
  {
   "cell_type": "code",
   "execution_count": 45,
   "metadata": {},
   "outputs": [],
   "source": [
    "def knn(dataset, trainSet, k=3):\n",
    "    dist = []\n",
    "    for i in trainSet:\n",
    "        for el in trainSet[i]:\n",
    "            euclidean_distance = sqrt(sum(  (np.array(el) - np.array(dataset) )**2 ))\n",
    "            dist.append((euclidean_distance, i))\n",
    "\n",
    "    sorted_dist =  sorted(dist)\n",
    "    votes =  [i[1] for i in sorted_dist[:k] ]\n",
    "    confidence =  Counter(votes).most_common()[0][1]/k\n",
    "    group = Counter(votes).most_common()[0][0]\n",
    "    \n",
    "    return group, confidence"
   ]
  },
  {
   "cell_type": "code",
   "execution_count": 48,
   "metadata": {},
   "outputs": [
    {
     "name": "stdout",
     "output_type": "stream",
     "text": [
      "Accuracy:  0.9640287769784173\n"
     ]
    }
   ],
   "source": [
    "correct = 0\n",
    "total = 0\n",
    "for i in test_set:\n",
    "    for el in test_set[i]:\n",
    "        group, confidence =  knn(el, train_set, k=25)\n",
    "        if group == i:\n",
    "            correct += 1\n",
    "        \n",
    "        total += 1\n",
    "\n",
    "print('Accuracy: ', correct/total)\n"
   ]
  },
  {
   "cell_type": "code",
   "execution_count": 49,
   "metadata": {},
   "outputs": [
    {
     "data": {
      "text/plain": [
       "2"
      ]
     },
     "execution_count": 49,
     "metadata": {},
     "output_type": "execute_result"
    }
   ],
   "source": [
    "predict = [5.0, 1.0, 1.0, 1.0, 2.0, 1.0, 3.0, 1.0, 1.0]\n",
    "votes, confidence = knn(predict, train_set, k=25)\n",
    "votes"
   ]
  }
 ],
 "metadata": {
  "kernelspec": {
   "display_name": "base",
   "language": "python",
   "name": "python3"
  },
  "language_info": {
   "codemirror_mode": {
    "name": "ipython",
    "version": 3
   },
   "file_extension": ".py",
   "mimetype": "text/x-python",
   "name": "python",
   "nbconvert_exporter": "python",
   "pygments_lexer": "ipython3",
   "version": "3.9.13"
  },
  "orig_nbformat": 4
 },
 "nbformat": 4,
 "nbformat_minor": 2
}
