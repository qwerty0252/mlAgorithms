{
 "cells": [
  {
   "cell_type": "code",
   "execution_count": 103,
   "metadata": {},
   "outputs": [],
   "source": [
    "import matplotlib.pyplot as plt\n",
    "from matplotlib import style\n",
    "style.use('ggplot')\n",
    "import numpy as np\n",
    "from sklearn.datasets._samples_generator import make_blobs\n",
    "import random"
   ]
  },
  {
   "cell_type": "code",
   "execution_count": 104,
   "metadata": {},
   "outputs": [],
   "source": [
    "# X =  np.array([\n",
    "#     [1, 2],\n",
    "#     [1.5, 1.8],\n",
    "#     [5, 8],\n",
    "#     [8, 8],\n",
    "#     [1, 0.6],\n",
    "#     [9, 11]\n",
    "# ])\n",
    "centres =  random.randrange(2,8)\n",
    "\n",
    "X, y = make_blobs(n_samples=50, centers=centres, n_features=2)"
   ]
  },
  {
   "cell_type": "code",
   "execution_count": 105,
   "metadata": {},
   "outputs": [],
   "source": [
    "\n",
    "# plt.show()\n",
    "colors =  10 *['g', 'r', 'c', 'b', 'k']"
   ]
  },
  {
   "cell_type": "code",
   "execution_count": 106,
   "metadata": {},
   "outputs": [],
   "source": [
    "class Mean_Shift:\n",
    "    def __init__(self, raduis=None, radius_norm_step = 100):\n",
    "        self.raduis = raduis\n",
    "        self.radius_norm_step = radius_norm_step\n",
    "\n",
    "    def fit(self, data):\n",
    "        if self.raduis == None:\n",
    "            all_data_centroid = np.average(data, axis=0)\n",
    "            all_data_norm = np.linalg.norm(all_data_centroid)\n",
    "            self.raduis =  all_data_norm / self.radius_norm_step\n",
    "\n",
    "        centroids = {}\n",
    "        weights = [i for i in range(self.radius_norm_step)][::-1]\n",
    "        for i in range(len(data)):\n",
    "            centroids[i] = data[i]\n",
    "\n",
    "        while True:\n",
    "            new_centroids =  []\n",
    "            for i in centroids:\n",
    "                in_bandwidth = []\n",
    "                centroid = centroids[i]\n",
    "                # weights = [i for i in range(self.radius_norm_step)][::-1]\n",
    "                for featureset in data:\n",
    "                    # if np.linalg.norm(featureset - centroid) < self.raduis:\n",
    "                    #     in_bandwidth.append(featureset)\n",
    "\n",
    "                    distance =  np.linalg.norm(featureset -  centroid)\n",
    "                    if distance == 0:#for the first iteration\n",
    "                        distance =  0.000000001\n",
    "                    weight_index =  int(distance/self.raduis)\n",
    "                    if weight_index > self.radius_norm_step - 1:\n",
    "                        weight_index =  self.radius_norm_step -1\n",
    "                    to_add = (weights[weight_index]**2)*[featureset]\n",
    "                    in_bandwidth += to_add\n",
    "\n",
    "                new_centroid = np.average(in_bandwidth, axis=0)\n",
    "                new_centroids.append(tuple(new_centroid))\n",
    "            \n",
    "            uniques =  sorted(list(set(new_centroids)))\n",
    "\n",
    "            to_pop =[]\n",
    "\n",
    "            for i in uniques:\n",
    "                for ii in uniques:\n",
    "                    if i == ii:\n",
    "                        pass\n",
    "                    elif np.linalg.norm(np.array(i) - np.array(ii)) <= self.raduis:\n",
    "                        to_pop.append(ii)\n",
    "                        break\n",
    "\n",
    "            for i in to_pop:\n",
    "                try:\n",
    "                    uniques.remove(i)\n",
    "                except:\n",
    "                    pass\n",
    "            prev_centroids =  dict(centroids)\n",
    "            centroids ={}\n",
    "            for i in range(len(uniques)):\n",
    "                centroids[i] =  np.array(uniques[i])\n",
    "            \n",
    "            optimized = True\n",
    "\n",
    "            for i in centroids:\n",
    "                if not np.array_equal(centroids[i], prev_centroids[i]):\n",
    "                    optimized = False\n",
    "                if not optimized:\n",
    "                    break\n",
    "\n",
    "            if optimized:\n",
    "                break\n",
    "        \n",
    "        self.centroids =  centroids\n",
    "        \n",
    "        self.classifications  = {}\n",
    "        for i in range(len(self.centroids)):\n",
    "            self.classifications[i] =  []\n",
    "\n",
    "        for featureset in data:\n",
    "            distances =  [np.linalg.norm(featureset -  self.centroids[centroid]) for centroid in self.centroids]\n",
    "            classfication = distances.index(min(distances))\n",
    "            self.classifications[classfication].append(featureset)\n",
    "\n",
    "        \n",
    "\n",
    "    def predict(self, data):\n",
    "        distances =  [np.linalg.norm(data -  self.centroids[centroid]) for centroid in self.centroids]\n",
    "        classification = distances.index(min(distances))\n",
    "        return classification"
   ]
  },
  {
   "cell_type": "code",
   "execution_count": 107,
   "metadata": {},
   "outputs": [
    {
     "data": {
      "image/png": "[encoded data removed]",
      "text/plain": [
       "<Figure size 640x480 with 1 Axes>"
      ]
     },
     "metadata": {},
     "output_type": "display_data"
    }
   ],
   "source": [
    "clf = Mean_Shift()\n",
    "clf.fit(X)\n",
    "centroids = clf.centroids\n",
    "# plt.scatter(X[:,0], X[:,1], s=150)\n",
    "for classification in clf.classifications:\n",
    "    color =  colors[classification]\n",
    "    for featureset in clf.classifications[classification]:\n",
    "        plt.scatter(featureset[0], featureset[1], marker='x', color = color, s=150, linewidths=5)\n",
    "for c in centroids:\n",
    "    plt.scatter(centroids[c][0], centroids[c][1], color = 'k', marker='*')\n",
    "\n",
    "plt.show()"
   ]
  }
 ],
 "metadata": {
  "kernelspec": {
   "display_name": "base",
   "language": "python",
   "name": "python3"
  },
  "language_info": {
   "codemirror_mode": {
    "name": "ipython",
    "version": 3
   },
   "file_extension": ".py",
   "mimetype": "text/x-python",
   "name": "python",
   "nbconvert_exporter": "python",
   "pygments_lexer": "ipython3",
   "version": "3.9.13"
  },
  "orig_nbformat": 4
 },
 "nbformat": 4,
 "nbformat_minor": 2
}
