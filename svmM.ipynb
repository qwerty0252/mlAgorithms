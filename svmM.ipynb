{
 "cells": [
  {
   "attachments": {},
   "cell_type": "markdown",
   "metadata": {},
   "source": [
    "About to build my own svm. God abeg\n"
   ]
  },
  {
   "cell_type": "code",
   "execution_count": 1,
   "metadata": {},
   "outputs": [],
   "source": [
    "import numpy as np\n",
    "import matplotlib.pyplot as plt"
   ]
  },
  {
   "cell_type": "code",
   "execution_count": 2,
   "metadata": {},
   "outputs": [],
   "source": [
    "class Support_Vector_Machine:\n",
    "    def __init__(self, visualize = True):\n",
    "        self.visualize= True\n",
    "\n",
    "    def fit(self, data):\n",
    "        self.data =  data\n",
    "        opt_dict = {}\n",
    "        \n",
    "    def predicit(self, features):\n",
    "        classification = np.sign(np.dot(np.array(features), self.w)+ self.b)\n",
    "        return classification\n",
    "        "
   ]
  },
  {
   "cell_type": "code",
   "execution_count": 3,
   "metadata": {},
   "outputs": [],
   "source": [
    "data_dict = {-1: np.array([[1,7],\n",
    "                           [2,8],\n",
    "                           [3,8]]),\n",
    "\n",
    "            1:  np.array([[5,1],\n",
    "                           [6,-1],\n",
    "                           [7,3]])}\n"
   ]
  },
  {
   "cell_type": "code",
   "execution_count": 6,
   "metadata": {},
   "outputs": [
    {
     "name": "stdout",
     "output_type": "stream",
     "text": [
      "feature  1\n",
      "feature  7\n",
      "feature  2\n",
      "feature  8\n",
      "feature  3\n",
      "feature  8\n",
      "feature  5\n",
      "feature  1\n",
      "feature  6\n",
      "feature  -1\n",
      "feature  7\n",
      "feature  3\n"
     ]
    }
   ],
   "source": [
    "for yi in data_dict:\n",
    "    # print(yi)\n",
    "    for fs in data_dict[yi]:\n",
    "        # print(fs)\n",
    "        for f in fs:\n",
    "            print('feature ', str(f))"
   ]
  }
 ],
 "metadata": {
  "kernelspec": {
   "display_name": "base",
   "language": "python",
   "name": "python3"
  },
  "language_info": {
   "codemirror_mode": {
    "name": "ipython",
    "version": 3
   },
   "file_extension": ".py",
   "mimetype": "text/x-python",
   "name": "python",
   "nbconvert_exporter": "python",
   "pygments_lexer": "ipython3",
   "version": "3.9.13"
  },
  "orig_nbformat": 4
 },
 "nbformat": 4,
 "nbformat_minor": 2
}
