{
 "cells": [
  {
   "attachments": {},
   "cell_type": "markdown",
   "metadata": {},
   "source": [
    "About to build my own svm. God abeg\n"
   ]
  },
  {
   "cell_type": "code",
   "execution_count": 1,
   "metadata": {},
   "outputs": [],
   "source": [
    "import numpy as np\n",
    "import matplotlib.pyplot as plt"
   ]
  },
  {
   "cell_type": "code",
   "execution_count": 2,
   "metadata": {},
   "outputs": [],
   "source": [
    "class Support_Vector_Machine:\n",
    "    def __init__(self, visualize = True):\n",
    "        self.visualize= True\n",
    "\n",
    "    def fit(self, data):\n",
    "        self.data =  data\n",
    "        opt_dict = {}\n",
    "        \n",
    "    def predicit(self, features):\n",
    "        classification = np.sign(np.dot(np.array(features), self.w)+ self.b)\n",
    "        return classification\n",
    "        "
   ]
  },
  {
   "cell_type": "code",
   "execution_count": 3,
   "metadata": {},
   "outputs": [],
   "source": [
    "data_dict = {-1: np.array([[1,7],\n",
    "                           [2,8],\n",
    "                           [3,8]]),\n",
    "\n",
    "            1:  np.array([[5,1],\n",
    "                           [6,-1],\n",
    "                           [7,3]])}\n"
   ]
  },
  {
   "cell_type": "code",
   "execution_count": 8,
   "metadata": {},
   "outputs": [
    {
     "name": "stdout",
     "output_type": "stream",
     "text": [
      "8 -1\n"
     ]
    }
   ],
   "source": [
    "all_data = []\n",
    "for yi in data_dict:\n",
    "    # print(yi)\n",
    "    for fs in data_dict[yi]:\n",
    "        # print(fs)\n",
    "        for f in fs:\n",
    "            # print('feature ', str(f))\n",
    "            all_data.append(f)\n",
    "max_f =  max(all_data)\n",
    "min_f =  min(all_data)\n",
    "print(max_f, min_f)"
   ]
  },
  {
   "cell_type": "code",
   "execution_count": 11,
   "metadata": {},
   "outputs": [
    {
     "data": {
      "text/plain": [
       "[0.8, 0.08, 0.008]"
      ]
     },
     "execution_count": 11,
     "metadata": {},
     "output_type": "execute_result"
    }
   ],
   "source": [
    "step_sizes = [max_f*0.1,\n",
    "              max_f*0.01,\n",
    "              max_f*0.001]\n",
    "step_sizes"
   ]
  },
  {
   "cell_type": "code",
   "execution_count": null,
   "metadata": {},
   "outputs": [],
   "source": [
    "b_range_multiple = 5\n",
    "b_multiple = 5\n",
    "latest_optimum = max_f *10"
   ]
  },
  {
   "cell_type": "code",
   "execution_count": null,
   "metadata": {},
   "outputs": [],
   "source": []
  }
 ],
 "metadata": {
  "kernelspec": {
   "display_name": "base",
   "language": "python",
   "name": "python3"
  },
  "language_info": {
   "codemirror_mode": {
    "name": "ipython",
    "version": 3
   },
   "file_extension": ".py",
   "mimetype": "text/x-python",
   "name": "python",
   "nbconvert_exporter": "python",
   "pygments_lexer": "ipython3",
   "version": "3.9.13"
  },
  "orig_nbformat": 4
 },
 "nbformat": 4,
 "nbformat_minor": 2
}
