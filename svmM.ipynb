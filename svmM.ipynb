{
 "cells": [
  {
   "attachments": {},
   "cell_type": "markdown",
   "metadata": {},
   "source": [
    "About to build my own svm. God abeg\n"
   ]
  },
  {
   "cell_type": "code",
   "execution_count": 9,
   "metadata": {},
   "outputs": [],
   "source": [
    "import numpy as np\n",
    "import matplotlib.pyplot as plt"
   ]
  },
  {
   "cell_type": "code",
   "execution_count": 10,
   "metadata": {},
   "outputs": [],
   "source": [
    "class Support_Vector_Machine:\n",
    "    def __init__(self, visualize = True):\n",
    "        self.visualize= True\n",
    "\n",
    "    def fit(self, data):\n",
    "        self.data =  data\n",
    "        opt_dict = {}\n",
    "\n",
    "        transforms = [[1,1],[1,-1], [-1,1], [-1,-1]]\n",
    "        all_data = []\n",
    "\n",
    "        for yi in self.data:\n",
    "            for feature_set in self.data[yi]:\n",
    "                for feature in feature_set:\n",
    "                    all_data.append(feature)\n",
    "\n",
    "        self.max_feature =  max(all_data)\n",
    "        self.min_feature =  min(all_data)\n",
    "\n",
    "        all_data = None\n",
    "        \n",
    "        step_sizes = [self.max_feature_value * 0.1,\n",
    "                      self.max_feature_value * 0.01,\n",
    "                      self.max_feature_value * 0.001]\n",
    "        \n",
    "        b_range_multiple = 5\n",
    "        b_multiple = 5\n",
    "        latest_optimum =  self.max_feature_value * 10\n",
    "\n",
    "        #this is where we try to solve the optimization problem\n",
    "        for step in step_sizes:\n",
    "            w = np.array([latest_optimum, latest_optimum])\n",
    "            optimized = False\n",
    "            while not optimized:\n",
    "                for b in np.arange(-1*(self.max_feature*b_range_multiple), self.max_feature*b_range_multiple, step*b_multiple ):\n",
    "                    for transformation in transforms:\n",
    "                        w_t = w*transformation\n",
    "                        found_option =  True\n",
    "                        for i in self.data:\n",
    "                            for xi in self.data[i]:\n",
    "                                yi  = i\n",
    "                                if not yi*(np.dot(w_t, xi)+b) >= 1:\n",
    "                                    found_option = False\n",
    "                                    \n",
    "                        if found_option:\n",
    "                            opt_dict[np.linalg.norm(w_t)] = [w,b]  \n",
    "                      \n",
    "\n",
    "                if w[0] < 0:\n",
    "                    optimized = True\n",
    "                    print('Optimized a step')\n",
    "                else:\n",
    "                    w=w-step\n",
    "\n",
    "                \n",
    "\n",
    "        \n",
    "    def predicit(self, features):\n",
    "        classification = np.sign(np.dot(np.array(features), self.w)+ self.b)\n",
    "        return classification\n",
    "        "
   ]
  },
  {
   "cell_type": "code",
   "execution_count": 11,
   "metadata": {},
   "outputs": [],
   "source": [
    "data_dict = {-1: np.array([[1,7],\n",
    "                           [2,8],\n",
    "                           [3,8]]),\n",
    "\n",
    "            1:  np.array([[5,1],\n",
    "                           [6,-1],\n",
    "                           [7,10]])}\n"
   ]
  },
  {
   "cell_type": "code",
   "execution_count": 12,
   "metadata": {},
   "outputs": [
    {
     "name": "stdout",
     "output_type": "stream",
     "text": [
      "10 -1\n"
     ]
    }
   ],
   "source": [
    "all_data = []\n",
    "for yi in data_dict:\n",
    "    # print(yi)\n",
    "    for fs in data_dict[yi]:\n",
    "        # print(fs)\n",
    "        for f in fs:\n",
    "            # print('feature ', str(f))\n",
    "            all_data.append(f)\n",
    "max_f =  max(all_data)\n",
    "min_f =  min(all_data)\n",
    "print(max_f, min_f)"
   ]
  },
  {
   "cell_type": "code",
   "execution_count": 13,
   "metadata": {},
   "outputs": [
    {
     "data": {
      "text/plain": [
       "[1.0, 0.1, 0.01]"
      ]
     },
     "execution_count": 13,
     "metadata": {},
     "output_type": "execute_result"
    }
   ],
   "source": [
    "step_sizes = [max_f*0.1,\n",
    "              max_f*0.01,\n",
    "              max_f*0.001]\n",
    "step_sizes"
   ]
  },
  {
   "cell_type": "code",
   "execution_count": 14,
   "metadata": {},
   "outputs": [],
   "source": [
    "b_range_multiple = 5\n",
    "b_multiple = 5\n",
    "latest_optimum = max_f *10"
   ]
  },
  {
   "cell_type": "code",
   "execution_count": 15,
   "metadata": {},
   "outputs": [
    {
     "name": "stdout",
     "output_type": "stream",
     "text": [
      "1\n",
      "3\n",
      "5\n",
      "7\n"
     ]
    }
   ],
   "source": [
    "for i in np.arange(1,9,2):\n",
    "    print(i)"
   ]
  }
 ],
 "metadata": {
  "kernelspec": {
   "display_name": "base",
   "language": "python",
   "name": "python3"
  },
  "language_info": {
   "codemirror_mode": {
    "name": "ipython",
    "version": 3
   },
   "file_extension": ".py",
   "mimetype": "text/x-python",
   "name": "python",
   "nbconvert_exporter": "python",
   "pygments_lexer": "ipython3",
   "version": "3.9.13"
  },
  "orig_nbformat": 4
 },
 "nbformat": 4,
 "nbformat_minor": 2
}
