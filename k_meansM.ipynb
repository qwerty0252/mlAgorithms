{
 "cells": [
  {
   "cell_type": "code",
   "execution_count": 33,
   "metadata": {},
   "outputs": [],
   "source": [
    "import matplotlib.pyplot as plt\n",
    "from matplotlib import style\n",
    "style.use('ggplot')\n",
    "import numpy as np"
   ]
  },
  {
   "cell_type": "code",
   "execution_count": 34,
   "metadata": {},
   "outputs": [],
   "source": [
    "X =  np.array([\n",
    "    [1, 2],\n",
    "    [1.5, 1.8],\n",
    "    [5, 8],\n",
    "    [8, 8],\n",
    "    [1, 0.6],\n",
    "    [9, 11]\n",
    "])"
   ]
  },
  {
   "cell_type": "code",
   "execution_count": 35,
   "metadata": {},
   "outputs": [],
   "source": [
    "class K_means():\n",
    "    def __init__(self, k=2, tol=0.001, max_iter=300):\n",
    "        self.k = k\n",
    "        self.tol =  tol\n",
    "        self.max_iter = 300\n",
    "\n",
    "    def fit(self, data):\n",
    "        self.centroids = {}\n",
    "        \n",
    "        for i in range(self.k):\n",
    "            self.centroids[i] = []\n",
    "\n",
    "        for i in range(self.max_iter):\n",
    "            self.classifications = {}\n",
    "\n",
    "            for featureset in data:\n",
    "               dist = [np.linalg.norm(featureset - self.centroids[centroid] for centroid in self.centroids)] \n",
    "               classification = dist.index(min(dist))\n",
    "               self.classifications[classification].append(featureset)\n",
    "            \n",
    "            prev_centroids  = dict(self.centroids) \n",
    "            for classification in self.classifications:\n",
    "                self.centroids[classification] = np.average(self.classifications[classification], axis=0)\n",
    "\n",
    "            optimized = True\n",
    "\n",
    "            for c in self.centroids:\n",
    "                original_centroid =  prev_centroids[c]\n",
    "                current_centroid  =  self.centroids[c]\n",
    "                if np.sum((current_centroid - original_centroid) / original_centroid * 100) > self.tol:\n",
    "                    optimized = False\n",
    "            \n",
    "            if optimized:\n",
    "                    break\n",
    "\n",
    "\n",
    "            def predict(self, data):\n",
    "                distances  =  [np.linalg.norm(data -  self.centroids[centroid]) for centroid in self.centroids]\n",
    "                classification  = distances.index(min(distances))\n",
    "                return classification\n"
   ]
  },
  {
   "cell_type": "code",
   "execution_count": 36,
   "metadata": {},
   "outputs": [
    {
     "data": {
      "text/plain": [
       "{1: 1}"
      ]
     },
     "execution_count": 36,
     "metadata": {},
     "output_type": "execute_result"
    }
   ],
   "source": [
    "# centroids  =  {}\n",
    "# for i in range(2):\n",
    "#     centroids[i] = X[i]\n",
    "\n",
    "# centroids\n",
    "op ={1:1}\n",
    "v=dict(op)\n",
    "v"
   ]
  },
  {
   "cell_type": "code",
   "execution_count": 37,
   "metadata": {},
   "outputs": [
    {
     "data": {
      "text/plain": [
       "[1.0, 1.3]"
      ]
     },
     "execution_count": 37,
     "metadata": {},
     "output_type": "execute_result"
    }
   ],
   "source": [
    "classification =  {}\n",
    "for i in range(2):\n",
    "    classification[i]= []\n",
    "\n",
    "# for fs in X:\n",
    "dist =  [np.linalg.norm([1,3] - centroids[centroid]) for centroid in centroids]\n",
    "# dist = [1,2,3,45,0]\n",
    "# dist.index(min(dist))\n",
    "    # print(fs)\n",
    "# np.average(X, axis=0)\n",
    "# x = (5.23333333+4.25)/2\n",
    "# x\n",
    "dist"
   ]
  }
 ],
 "metadata": {
  "kernelspec": {
   "display_name": "base",
   "language": "python",
   "name": "python3"
  },
  "language_info": {
   "codemirror_mode": {
    "name": "ipython",
    "version": 3
   },
   "file_extension": ".py",
   "mimetype": "text/x-python",
   "name": "python",
   "nbconvert_exporter": "python",
   "pygments_lexer": "ipython3",
   "version": "3.9.13"
  },
  "orig_nbformat": 4
 },
 "nbformat": 4,
 "nbformat_minor": 2
}
